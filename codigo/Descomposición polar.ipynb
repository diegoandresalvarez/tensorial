{
 "cells": [
  {
   "cell_type": "markdown",
   "id": "81618b1e",
   "metadata": {},
   "source": [
    "# La descomposición polar"
   ]
  },
  {
   "cell_type": "code",
   "execution_count": 1,
   "id": "1e71c86e",
   "metadata": {},
   "outputs": [],
   "source": [
    "import numpy as np\n",
    "from scipy.linalg import polar, eigh, inv, det, svd, eigvalsh"
   ]
  },
  {
   "cell_type": "markdown",
   "id": "a6fdb94a",
   "metadata": {},
   "source": [
    "Primero que todo se genera al azar una matriz $\\boldsymbol{F}$:"
   ]
  },
  {
   "cell_type": "code",
   "execution_count": 2,
   "id": "c85e1a6d",
   "metadata": {},
   "outputs": [
    {
     "data": {
      "text/plain": [
       "array([[0.63507913, 0.03279025, 0.01333886],\n",
       "       [0.8291054 , 0.52737216, 0.37148524],\n",
       "       [0.88525969, 0.17426902, 0.52598688]])"
      ]
     },
     "execution_count": 2,
     "metadata": {},
     "output_type": "execute_result"
    }
   ],
   "source": [
    "F = np.random.rand(3,3)\n",
    "F"
   ]
  },
  {
   "cell_type": "markdown",
   "id": "2b3fe07c",
   "metadata": {},
   "source": [
    "La descomposición polar la matriz $\\boldsymbol{F}$ se puede descomponer así:\n",
    "\n",
    "\\begin{equation*}\n",
    "\\boldsymbol{F} = \\boldsymbol{R}\\boldsymbol{U}= \\boldsymbol{V}\\boldsymbol{R}\n",
    "\\end{equation*}\n",
    "\n",
    "donde $\\boldsymbol{R}$ es una matriz ortogonal y $\\boldsymbol{U}$ y $\\boldsymbol{V}$ son matrices simétricas.\n",
    "\n",
    "La función `scipy.linalg.polar` se puede utilizar para generar la descomposición polar:"
   ]
  },
  {
   "cell_type": "code",
   "execution_count": 3,
   "id": "4674a2b4",
   "metadata": {},
   "outputs": [],
   "source": [
    "R1, U = polar(F, 'right')\n",
    "R2, V = polar(F, 'left')"
   ]
  },
  {
   "cell_type": "markdown",
   "id": "ae770170",
   "metadata": {},
   "source": [
    "Observe que las matrices $\\boldsymbol{R}_1$ y $\\boldsymbol{R}_2$ son iguales:"
   ]
  },
  {
   "cell_type": "code",
   "execution_count": 4,
   "id": "38e8037b",
   "metadata": {
    "scrolled": true
   },
   "outputs": [
    {
     "data": {
      "text/plain": [
       "array([[0., 0., 0.],\n",
       "       [0., 0., 0.],\n",
       "       [0., 0., 0.]])"
      ]
     },
     "execution_count": 4,
     "metadata": {},
     "output_type": "execute_result"
    }
   ],
   "source": [
    "R1 - R2"
   ]
  },
  {
   "cell_type": "markdown",
   "id": "9389c0e0",
   "metadata": {},
   "source": [
    "Por lo tanto:"
   ]
  },
  {
   "cell_type": "code",
   "execution_count": 5,
   "id": "77089aa9",
   "metadata": {},
   "outputs": [],
   "source": [
    "R = R1"
   ]
  },
  {
   "cell_type": "markdown",
   "id": "efac1d3c",
   "metadata": {},
   "source": [
    "Observemos también que $\\boldsymbol{R}$ es una matriz ortogonal, es decir, satisface $\\boldsymbol{R}^T\\boldsymbol{R} = \\boldsymbol{I}$:\n",
    "    "
   ]
  },
  {
   "cell_type": "code",
   "execution_count": 6,
   "id": "52d0b26f",
   "metadata": {
    "scrolled": true
   },
   "outputs": [
    {
     "data": {
      "text/plain": [
       "array([[1.00000000e+00, 2.16719574e-16, 3.42138681e-16],\n",
       "       [2.16719574e-16, 1.00000000e+00, 2.05181966e-16],\n",
       "       [3.42138681e-16, 2.05181966e-16, 1.00000000e+00]])"
      ]
     },
     "execution_count": 6,
     "metadata": {},
     "output_type": "execute_result"
    }
   ],
   "source": [
    "R.T @ R"
   ]
  },
  {
   "cell_type": "markdown",
   "id": "c29caafc",
   "metadata": {},
   "source": [
    "y que $\\boldsymbol{R}$ es una *matriz ortogonal propia*, es decir, su determinante $\\det(\\boldsymbol{R}) = \\pm 1$:"
   ]
  },
  {
   "cell_type": "code",
   "execution_count": 7,
   "id": "f0b3d352",
   "metadata": {},
   "outputs": [
    {
     "data": {
      "text/plain": [
       "1.0000000000000009"
      ]
     },
     "execution_count": 7,
     "metadata": {},
     "output_type": "execute_result"
    }
   ],
   "source": [
    "det(R)"
   ]
  },
  {
   "cell_type": "markdown",
   "id": "cf3a3bf2",
   "metadata": {},
   "source": [
    "Tanto la matriz $\\boldsymbol{U}$ como la matriz $\\boldsymbol{V}$ son simétricas:"
   ]
  },
  {
   "cell_type": "code",
   "execution_count": 8,
   "id": "c4e9d490",
   "metadata": {},
   "outputs": [
    {
     "data": {
      "text/plain": [
       "array([[1.26200142, 0.32002599, 0.42351123],\n",
       "       [0.32002599, 0.42029346, 0.17465124],\n",
       "       [0.42351123, 0.17465124, 0.4527434 ]])"
      ]
     },
     "execution_count": 8,
     "metadata": {},
     "output_type": "execute_result"
    }
   ],
   "source": [
    "U"
   ]
  },
  {
   "cell_type": "code",
   "execution_count": 9,
   "id": "e915b14f",
   "metadata": {},
   "outputs": [
    {
     "data": {
      "text/plain": [
       "array([[0.47035065, 0.27949603, 0.32439305],\n",
       "       [0.27949603, 0.84433845, 0.55902861],\n",
       "       [0.32439305, 0.55902861, 0.82034918]])"
      ]
     },
     "execution_count": 9,
     "metadata": {},
     "output_type": "execute_result"
    }
   ],
   "source": [
    "V"
   ]
  },
  {
   "cell_type": "markdown",
   "id": "5b37ced8",
   "metadata": {},
   "source": [
    "y también son definidas positivas, ya que todos sus valores propios son positivos:"
   ]
  },
  {
   "cell_type": "code",
   "execution_count": 10,
   "id": "007e9904",
   "metadata": {},
   "outputs": [
    {
     "data": {
      "text/plain": [
       "array([0.25107085, 0.32508402, 1.55888341])"
      ]
     },
     "execution_count": 10,
     "metadata": {},
     "output_type": "execute_result"
    }
   ],
   "source": [
    "eigvalsh(U)"
   ]
  },
  {
   "cell_type": "code",
   "execution_count": 11,
   "id": "252fb237",
   "metadata": {},
   "outputs": [
    {
     "data": {
      "text/plain": [
       "array([0.25107085, 0.32508402, 1.55888341])"
      ]
     },
     "execution_count": 11,
     "metadata": {},
     "output_type": "execute_result"
    }
   ],
   "source": [
    "eigvalsh(V)"
   ]
  },
  {
   "cell_type": "markdown",
   "id": "58586bc2",
   "metadata": {},
   "source": [
    "Verifiquemos ahora que:\n",
    "\\begin{equation*}\n",
    "\\boldsymbol{F} = \\boldsymbol{R}\\boldsymbol{U}= \\boldsymbol{V}\\boldsymbol{R}\n",
    "\\end{equation*}"
   ]
  },
  {
   "cell_type": "code",
   "execution_count": 12,
   "id": "064bc0ea",
   "metadata": {},
   "outputs": [
    {
     "data": {
      "text/plain": [
       "array([[-6.66133815e-16, -2.22044605e-16, -4.68375339e-16],\n",
       "       [-1.33226763e-15, -4.44089210e-16, -6.66133815e-16],\n",
       "       [-1.44328993e-15, -4.44089210e-16, -5.55111512e-16]])"
      ]
     },
     "execution_count": 12,
     "metadata": {},
     "output_type": "execute_result"
    }
   ],
   "source": [
    "F - R@U"
   ]
  },
  {
   "cell_type": "code",
   "execution_count": 13,
   "id": "ba03dc97",
   "metadata": {},
   "outputs": [
    {
     "data": {
      "text/plain": [
       "array([[-6.66133815e-16, -2.35922393e-16, -3.71230824e-16],\n",
       "       [-1.44328993e-15, -6.66133815e-16, -6.10622664e-16],\n",
       "       [-1.44328993e-15, -3.88578059e-16, -5.55111512e-16]])"
      ]
     },
     "execution_count": 13,
     "metadata": {},
     "output_type": "execute_result"
    }
   ],
   "source": [
    "F - V@R"
   ]
  },
  {
   "cell_type": "markdown",
   "id": "d3e1722e",
   "metadata": {},
   "source": [
    "Lo cual se puede verificar también así:"
   ]
  },
  {
   "cell_type": "code",
   "execution_count": 14,
   "id": "eea74a27",
   "metadata": {},
   "outputs": [
    {
     "data": {
      "text/plain": [
       "array([[ True,  True,  True],\n",
       "       [ True,  True,  True],\n",
       "       [ True,  True,  True]])"
      ]
     },
     "execution_count": 14,
     "metadata": {},
     "output_type": "execute_result"
    }
   ],
   "source": [
    "np.isclose(F, R@U)"
   ]
  },
  {
   "cell_type": "code",
   "execution_count": 15,
   "id": "ea865945",
   "metadata": {
    "scrolled": true
   },
   "outputs": [
    {
     "data": {
      "text/plain": [
       "array([[ True,  True,  True],\n",
       "       [ True,  True,  True],\n",
       "       [ True,  True,  True]])"
      ]
     },
     "execution_count": 15,
     "metadata": {},
     "output_type": "execute_result"
    }
   ],
   "source": [
    "np.isclose(F, V@R)"
   ]
  },
  {
   "cell_type": "markdown",
   "id": "2390d3b5",
   "metadata": {},
   "source": [
    "## Verificación de propiedades"
   ]
  },
  {
   "cell_type": "markdown",
   "id": "33a845c9",
   "metadata": {},
   "source": [
    "Recordemos que el tensor derecho de Cauchy-Green $\\boldsymbol{C}$ se puede escribir como $\\boldsymbol{C}=\\boldsymbol{F}^T \\boldsymbol{F} = \\boldsymbol{U}^T \\boldsymbol{U} = \\boldsymbol{U}\\boldsymbol{U}$:"
   ]
  },
  {
   "cell_type": "code",
   "execution_count": 16,
   "id": "c937dea8",
   "metadata": {},
   "outputs": [
    {
     "data": {
      "text/plain": [
       "True"
      ]
     },
     "execution_count": 16,
     "metadata": {},
     "output_type": "execute_result"
    }
   ],
   "source": [
    "np.all(np.isclose(F.T@F, U@U))"
   ]
  },
  {
   "cell_type": "markdown",
   "id": "1acdfc07",
   "metadata": {},
   "source": [
    "y que que el tensor izquierdo de Cauchy-Green $\\boldsymbol{B}$ se puede escribir como $\\boldsymbol{B} = \\boldsymbol{F} \\boldsymbol{F}^T = \\boldsymbol{V} \\boldsymbol{V}^T = \\boldsymbol{V} \\boldsymbol{V}$:"
   ]
  },
  {
   "cell_type": "code",
   "execution_count": 17,
   "id": "2384fe8a",
   "metadata": {
    "scrolled": true
   },
   "outputs": [
    {
     "data": {
      "text/plain": [
       "True"
      ]
     },
     "execution_count": 17,
     "metadata": {},
     "output_type": "execute_result"
    }
   ],
   "source": [
    "np.all(np.isclose(F@F.T, V@V))"
   ]
  },
  {
   "cell_type": "markdown",
   "id": "88213b8b",
   "metadata": {},
   "source": [
    "## Cálculo de la descomposición polar $\\boldsymbol{F}  = \\boldsymbol{R} \\boldsymbol{U}$"
   ]
  },
  {
   "cell_type": "markdown",
   "id": "ccda2220",
   "metadata": {},
   "source": [
    "Se calcula el tensor derecho de Cauchy-Green $\\boldsymbol{C}$ se puede escribir como $\\boldsymbol{C} = \\boldsymbol{F}^T \\boldsymbol{F}$:"
   ]
  },
  {
   "cell_type": "code",
   "execution_count": 18,
   "id": "55dbd669",
   "metadata": {},
   "outputs": [
    {
     "data": {
      "text/plain": [
       "array([[1.87442597, 0.61234485, 0.78210663],\n",
       "       [0.61234485, 0.30956629, 0.28801157],\n",
       "       [0.78210663, 0.28801157, 0.41484141]])"
      ]
     },
     "execution_count": 18,
     "metadata": {},
     "output_type": "execute_result"
    }
   ],
   "source": [
    "C = F.T @ F\n",
    "C"
   ]
  },
  {
   "cell_type": "markdown",
   "id": "8b417774",
   "metadata": {},
   "source": [
    "Observe que mediante el [teorema de la descomposición espectral](https://en.wikipedia.org/wiki/Eigendecomposition_of_a_matrix), podemos volver a obtener la matriz $\\boldsymbol{C}$ como:"
   ]
  },
  {
   "cell_type": "code",
   "execution_count": 19,
   "id": "a3818abc",
   "metadata": {},
   "outputs": [
    {
     "data": {
      "text/plain": [
       "array([[1.87442597, 0.61234485, 0.78210663],\n",
       "       [0.61234485, 0.30956629, 0.28801157],\n",
       "       [0.78210663, 0.28801157, 0.41484141]])"
      ]
     },
     "execution_count": 19,
     "metadata": {},
     "output_type": "execute_result"
    }
   ],
   "source": [
    "valp, vecp = eigh(C)\n",
    "vecp @ np.diag(valp) @ vecp.T"
   ]
  },
  {
   "cell_type": "markdown",
   "id": "be894472",
   "metadata": {},
   "source": [
    "Observe que la matriz $\\boldsymbol{U}$ se puede obtener como:"
   ]
  },
  {
   "cell_type": "code",
   "execution_count": 20,
   "id": "29ca5c0b",
   "metadata": {
    "scrolled": true
   },
   "outputs": [
    {
     "data": {
      "text/plain": [
       "True"
      ]
     },
     "execution_count": 20,
     "metadata": {},
     "output_type": "execute_result"
    }
   ],
   "source": [
    "np.all(np.isclose(U, vecp @ np.diag(np.sqrt(valp)) @ vecp.T))"
   ]
  },
  {
   "cell_type": "markdown",
   "id": "514c9d92",
   "metadata": {},
   "source": [
    "Finalmente $\\boldsymbol{R} = \\boldsymbol{F} \\boldsymbol{U}^{-1}$"
   ]
  },
  {
   "cell_type": "code",
   "execution_count": 21,
   "id": "fa75bc39",
   "metadata": {
    "scrolled": true
   },
   "outputs": [
    {
     "data": {
      "text/plain": [
       "True"
      ]
     },
     "execution_count": 21,
     "metadata": {},
     "output_type": "execute_result"
    }
   ],
   "source": [
    "np.all(np.isclose(R, F @ inv(U)))"
   ]
  },
  {
   "cell_type": "markdown",
   "id": "1693c775",
   "metadata": {},
   "source": [
    "## Cálculo de la descomposición polar $\\boldsymbol{F}  = \\boldsymbol{V} \\boldsymbol{R}$"
   ]
  },
  {
   "cell_type": "markdown",
   "id": "37f40394",
   "metadata": {},
   "source": [
    "Se calcula el tensor izquierdo de Cauchy-Green $\\boldsymbol{B}$ se puede escribir como $\\boldsymbol{B} = \\boldsymbol{F} \\boldsymbol{F}^T$:"
   ]
  },
  {
   "cell_type": "code",
   "execution_count": 22,
   "id": "1e879340",
   "metadata": {},
   "outputs": [
    {
     "data": {
      "text/plain": [
       "array([[0.40457862, 0.54879539, 0.57494034],\n",
       "       [0.54879539, 1.10353844, 1.02127458],\n",
       "       [0.57494034, 1.02127458, 1.09071661]])"
      ]
     },
     "execution_count": 22,
     "metadata": {},
     "output_type": "execute_result"
    }
   ],
   "source": [
    "B = F @ F.T\n",
    "B"
   ]
  },
  {
   "cell_type": "markdown",
   "id": "4ec8d95e",
   "metadata": {},
   "source": [
    "Observe que mediante el [teorema de la descomposición espectral](https://en.wikipedia.org/wiki/Eigendecomposition_of_a_matrix), podemos volver a obtener la matriz $\\boldsymbol{B}$ como:"
   ]
  },
  {
   "cell_type": "code",
   "execution_count": 23,
   "id": "73e47d8d",
   "metadata": {},
   "outputs": [
    {
     "data": {
      "text/plain": [
       "array([[0.40457862, 0.54879539, 0.57494034],\n",
       "       [0.54879539, 1.10353844, 1.02127458],\n",
       "       [0.57494034, 1.02127458, 1.09071661]])"
      ]
     },
     "execution_count": 23,
     "metadata": {},
     "output_type": "execute_result"
    }
   ],
   "source": [
    "valp, vecp = eigh(B)\n",
    "vecp @ np.diag(valp) @ vecp.T"
   ]
  },
  {
   "cell_type": "markdown",
   "id": "6c26ea69",
   "metadata": {},
   "source": [
    "Observe que la matriz $\\boldsymbol{V}$ se puede obtener como:"
   ]
  },
  {
   "cell_type": "code",
   "execution_count": 24,
   "id": "7b2ec270",
   "metadata": {
    "scrolled": true
   },
   "outputs": [
    {
     "data": {
      "text/plain": [
       "True"
      ]
     },
     "execution_count": 24,
     "metadata": {},
     "output_type": "execute_result"
    }
   ],
   "source": [
    "np.all(np.isclose(V, vecp @ np.diag(np.sqrt(valp)) @ vecp.T))"
   ]
  },
  {
   "cell_type": "markdown",
   "id": "457e1eb2",
   "metadata": {},
   "source": [
    "Finalmente $\\boldsymbol{R} = \\boldsymbol{V}^{-1}\\boldsymbol{F}$"
   ]
  },
  {
   "cell_type": "code",
   "execution_count": 25,
   "id": "f5af8762",
   "metadata": {
    "scrolled": true
   },
   "outputs": [
    {
     "data": {
      "text/plain": [
       "True"
      ]
     },
     "execution_count": 25,
     "metadata": {},
     "output_type": "execute_result"
    }
   ],
   "source": [
    "np.all(np.isclose(R, inv(V) @ F))"
   ]
  },
  {
   "cell_type": "markdown",
   "id": "fc3a972c",
   "metadata": {},
   "source": [
    "## Calculando la descomposición polar con la descomposición en valores singulares"
   ]
  },
  {
   "cell_type": "code",
   "execution_count": 26,
   "id": "0fa9b2b2",
   "metadata": {},
   "outputs": [],
   "source": [
    "WW, S, VVH = svd(F)\n",
    "VV = VVH.conj().T"
   ]
  },
  {
   "cell_type": "code",
   "execution_count": 27,
   "id": "c25b82e9",
   "metadata": {},
   "outputs": [],
   "source": [
    "RR = WW @ VVH\n",
    "UU = VV @ np.diag(S) @ VVH"
   ]
  },
  {
   "cell_type": "code",
   "execution_count": 28,
   "id": "d7c43684",
   "metadata": {},
   "outputs": [
    {
     "data": {
      "text/plain": [
       "True"
      ]
     },
     "execution_count": 28,
     "metadata": {},
     "output_type": "execute_result"
    }
   ],
   "source": [
    "np.all(np.isclose(R, RR))"
   ]
  },
  {
   "cell_type": "code",
   "execution_count": 29,
   "id": "43e0890e",
   "metadata": {
    "scrolled": true
   },
   "outputs": [
    {
     "data": {
      "text/plain": [
       "True"
      ]
     },
     "execution_count": 29,
     "metadata": {},
     "output_type": "execute_result"
    }
   ],
   "source": [
    "np.all(np.isclose(U, UU))"
   ]
  }
 ],
 "metadata": {
  "kernelspec": {
   "display_name": "Python 3 (ipykernel)",
   "language": "python",
   "name": "python3"
  },
  "language_info": {
   "codemirror_mode": {
    "name": "ipython",
    "version": 3
   },
   "file_extension": ".py",
   "mimetype": "text/x-python",
   "name": "python",
   "nbconvert_exporter": "python",
   "pygments_lexer": "ipython3",
   "version": "3.9.12"
  }
 },
 "nbformat": 4,
 "nbformat_minor": 5
}
