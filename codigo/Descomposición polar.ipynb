{
 "cells": [
  {
   "cell_type": "markdown",
   "id": "81618b1e",
   "metadata": {},
   "source": [
    "# La descomposición polar"
   ]
  },
  {
   "cell_type": "code",
   "execution_count": 1,
   "id": "1e71c86e",
   "metadata": {},
   "outputs": [],
   "source": [
    "import numpy as np\n",
    "from scipy.linalg import polar"
   ]
  },
  {
   "cell_type": "markdown",
   "id": "a6fdb94a",
   "metadata": {},
   "source": [
    "Primero que todo se genera al azar una matriz $\\boldsymbol{F}$:"
   ]
  },
  {
   "cell_type": "code",
   "execution_count": 2,
   "id": "c85e1a6d",
   "metadata": {},
   "outputs": [
    {
     "data": {
      "text/plain": [
       "array([[0.14327529, 0.4234147 , 0.01029867],\n",
       "       [0.32803259, 0.86791689, 0.9738616 ],\n",
       "       [0.00593829, 0.9502803 , 0.96165326]])"
      ]
     },
     "execution_count": 2,
     "metadata": {},
     "output_type": "execute_result"
    }
   ],
   "source": [
    "F = np.random.rand(3,3)\n",
    "F"
   ]
  },
  {
   "cell_type": "markdown",
   "id": "2b3fe07c",
   "metadata": {},
   "source": [
    "La descomposición polar la matriz $\\boldsymbol{F}$ se puede descomponer así:\n",
    "\\begin{equation*}\n",
    "\\boldsymbol{F} = \\boldsymbol{R}\\boldsymbol{U}= \\boldsymbol{v}\\boldsymbol{R}\n",
    "\\end{equation*}\n",
    "donde $\\boldsymbol{R}$ es una matriz ortogonal y $\\boldsymbol{U}$ y $\\boldsymbol{v}$ son matrices simétricas.\n",
    "\n",
    "La función `scipy.linalg.polar` se puede utilizar para generar la descomposición polar:"
   ]
  },
  {
   "cell_type": "code",
   "execution_count": 3,
   "id": "4674a2b4",
   "metadata": {},
   "outputs": [],
   "source": [
    "R1, U = polar(F, 'right')\n",
    "R2, v = polar(F, 'left')"
   ]
  },
  {
   "cell_type": "markdown",
   "id": "ae770170",
   "metadata": {},
   "source": [
    "Observe que las matrices $\\boldsymbol{R}_1$ y $\\boldsymbol{R}_2$ son iguales:"
   ]
  },
  {
   "cell_type": "code",
   "execution_count": 4,
   "id": "38e8037b",
   "metadata": {
    "scrolled": true
   },
   "outputs": [
    {
     "data": {
      "text/plain": [
       "array([[0., 0., 0.],\n",
       "       [0., 0., 0.],\n",
       "       [0., 0., 0.]])"
      ]
     },
     "execution_count": 4,
     "metadata": {},
     "output_type": "execute_result"
    }
   ],
   "source": [
    "R1 - R2"
   ]
  },
  {
   "cell_type": "markdown",
   "id": "9389c0e0",
   "metadata": {},
   "source": [
    "Por lo tanto:"
   ]
  },
  {
   "cell_type": "code",
   "execution_count": 5,
   "id": "77089aa9",
   "metadata": {},
   "outputs": [],
   "source": [
    "R = R1"
   ]
  },
  {
   "cell_type": "markdown",
   "id": "efac1d3c",
   "metadata": {},
   "source": [
    "Observemos también que $\\boldsymbol{R}$ es una matriz ortogonal, es decir, satisface $\\boldsymbol{R}^T\\boldsymbol{R} = \\boldsymbol{I}$:\n",
    "    "
   ]
  },
  {
   "cell_type": "code",
   "execution_count": 6,
   "id": "52d0b26f",
   "metadata": {
    "scrolled": true
   },
   "outputs": [
    {
     "data": {
      "text/plain": [
       "array([[ 1.00000000e+00, -5.40355238e-16,  6.69791160e-17],\n",
       "       [-5.40355238e-16,  1.00000000e+00, -3.47512123e-16],\n",
       "       [ 6.69791160e-17, -3.47512123e-16,  1.00000000e+00]])"
      ]
     },
     "execution_count": 6,
     "metadata": {},
     "output_type": "execute_result"
    }
   ],
   "source": [
    "R.T@R"
   ]
  },
  {
   "cell_type": "markdown",
   "id": "c29caafc",
   "metadata": {},
   "source": [
    "y que $\\boldsymbol{R}$ es una *matriz ortogonal propia*, es decir, su determinante $\\det(\\boldsymbol{R}) = 1$:"
   ]
  },
  {
   "cell_type": "code",
   "execution_count": 7,
   "id": "f0b3d352",
   "metadata": {},
   "outputs": [
    {
     "data": {
      "text/plain": [
       "-0.9999999999999996"
      ]
     },
     "execution_count": 7,
     "metadata": {},
     "output_type": "execute_result"
    }
   ],
   "source": [
    "np.linalg.det(R)"
   ]
  },
  {
   "cell_type": "markdown",
   "id": "cf3a3bf2",
   "metadata": {},
   "source": [
    "Tanto la matriz $\\boldsymbol{U}$ como la matriz $\\boldsymbol{v}$ son simétricas:"
   ]
  },
  {
   "cell_type": "code",
   "execution_count": 8,
   "id": "c4e9d490",
   "metadata": {},
   "outputs": [
    {
     "data": {
      "text/plain": [
       "array([[0.27941995, 0.18069487, 0.13206934],\n",
       "       [0.18069487, 1.08221276, 0.79483161],\n",
       "       [0.13206934, 0.79483161, 1.10638595]])"
      ]
     },
     "execution_count": 8,
     "metadata": {},
     "output_type": "execute_result"
    }
   ],
   "source": [
    "U"
   ]
  },
  {
   "cell_type": "code",
   "execution_count": 9,
   "id": "e915b14f",
   "metadata": {},
   "outputs": [
    {
     "data": {
      "text/plain": [
       "array([[0.35956861, 0.19919065, 0.17591867],\n",
       "       [0.19919065, 1.04775513, 0.81964859],\n",
       "       [0.17591867, 0.81964859, 1.06069492]])"
      ]
     },
     "execution_count": 9,
     "metadata": {},
     "output_type": "execute_result"
    }
   ],
   "source": [
    "v"
   ]
  },
  {
   "cell_type": "markdown",
   "id": "58586bc2",
   "metadata": {},
   "source": [
    "Verifiquemos ahora que:\n",
    "\\begin{equation*}\n",
    "\\boldsymbol{F} = \\boldsymbol{R}\\boldsymbol{U}= \\boldsymbol{v}\\boldsymbol{R}\n",
    "\\end{equation*}"
   ]
  },
  {
   "cell_type": "code",
   "execution_count": 10,
   "id": "064bc0ea",
   "metadata": {},
   "outputs": [
    {
     "data": {
      "text/plain": [
       "array([[5.55111512e-17, 3.33066907e-16, 4.77048956e-16],\n",
       "       [1.11022302e-16, 9.99200722e-16, 8.88178420e-16],\n",
       "       [1.23165367e-16, 5.55111512e-16, 9.99200722e-16]])"
      ]
     },
     "execution_count": 10,
     "metadata": {},
     "output_type": "execute_result"
    }
   ],
   "source": [
    "F - R@U"
   ]
  },
  {
   "cell_type": "code",
   "execution_count": 11,
   "id": "ba03dc97",
   "metadata": {},
   "outputs": [
    {
     "data": {
      "text/plain": [
       "array([[1.66533454e-16, 5.55111512e-16, 5.34294831e-16],\n",
       "       [5.55111512e-16, 1.11022302e-15, 5.55111512e-16],\n",
       "       [4.90926744e-16, 9.99200722e-16, 5.55111512e-16]])"
      ]
     },
     "execution_count": 11,
     "metadata": {},
     "output_type": "execute_result"
    }
   ],
   "source": [
    "F - v@R"
   ]
  },
  {
   "cell_type": "markdown",
   "id": "d3e1722e",
   "metadata": {},
   "source": [
    "Lo cual se puede verificar también así:"
   ]
  },
  {
   "cell_type": "code",
   "execution_count": 12,
   "id": "eea74a27",
   "metadata": {},
   "outputs": [
    {
     "data": {
      "text/plain": [
       "array([[ True,  True,  True],\n",
       "       [ True,  True,  True],\n",
       "       [ True,  True,  True]])"
      ]
     },
     "execution_count": 12,
     "metadata": {},
     "output_type": "execute_result"
    }
   ],
   "source": [
    "np.isclose(F, R@U)"
   ]
  },
  {
   "cell_type": "code",
   "execution_count": 13,
   "id": "ea865945",
   "metadata": {},
   "outputs": [
    {
     "data": {
      "text/plain": [
       "array([[ True,  True,  True],\n",
       "       [ True,  True,  True],\n",
       "       [ True,  True,  True]])"
      ]
     },
     "execution_count": 13,
     "metadata": {},
     "output_type": "execute_result"
    }
   ],
   "source": [
    "np.isclose(F, v@R)"
   ]
  }
 ],
 "metadata": {
  "kernelspec": {
   "display_name": "Python 3",
   "language": "python",
   "name": "python3"
  },
  "language_info": {
   "codemirror_mode": {
    "name": "ipython",
    "version": 3
   },
   "file_extension": ".py",
   "mimetype": "text/x-python",
   "name": "python",
   "nbconvert_exporter": "python",
   "pygments_lexer": "ipython3",
   "version": "3.8.8"
  }
 },
 "nbformat": 4,
 "nbformat_minor": 5
}
