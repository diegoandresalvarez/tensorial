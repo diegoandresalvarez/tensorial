{
 "cells": [
  {
   "cell_type": "markdown",
   "id": "0627a49e",
   "metadata": {},
   "source": [
    "# Los tensores de Green-Lagrange y de Euler-Almansi"
   ]
  },
  {
   "cell_type": "code",
   "execution_count": 1,
   "id": "4eeab575",
   "metadata": {},
   "outputs": [],
   "source": [
    "import sympy as sp"
   ]
  },
  {
   "cell_type": "code",
   "execution_count": 66,
   "id": "87ca1202",
   "metadata": {},
   "outputs": [],
   "source": [
    "def display_no_args(expr):\n",
    "    # Imprime los resultados sin mostrar el argumento de las funciones\n",
    "    functions = expr.atoms(sp.Function)\n",
    "    reps = {}\n",
    "\n",
    "    for fun in functions:\n",
    "        reps[fun] = sp.Symbol(fun.name)\n",
    "\n",
    "    display(expr.subs(reps))"
   ]
  },
  {
   "cell_type": "markdown",
   "id": "f84b00d4",
   "metadata": {},
   "source": [
    "## El gradiente de deformación\n",
    "\n",
    "El gradiente de deformación es la matriz jacobiana de la función de movimiento $\\boldsymbol{\\chi}(\\boldsymbol{X},t)$:\n",
    "\\begin{equation}\n",
    "F_{ij} \\quad = \\quad \\frac{\\partial x_i}{\\partial X_j} \\quad = \\quad \n",
    "\\left[ \\matrix{\n",
    "{\\partial x_1 \\over \\partial X_1} & {\\partial x_1 \\over \\partial X_2} & {\\partial x_1 \\over \\partial X_3} \\\\\n",
    "{\\partial x_2 \\over \\partial X_1} & {\\partial x_2 \\over \\partial X_2} & {\\partial x_2 \\over \\partial X_3} \\\\\n",
    "{\\partial x_3 \\over \\partial X_1} & {\\partial x_3 \\over \\partial X_2} & {\\partial x_3 \\over \\partial X_3}\n",
    "} \\right]\n",
    "\\end{equation}\n",
    "\n",
    "También se puede calcular, a partir de la expresión $\\boldsymbol{x} = \\boldsymbol{X} + \\boldsymbol{u}$, como:\n",
    "\\begin{equation}\n",
    "\\boldsymbol{F} = {\\partial {\\bf x} \\over \\partial {\\bf X} } =  {\\partial \\over \\partial {\\bf X} } ({\\bf X} + {\\bf u}) = \n",
    "{ \\partial {\\bf X} \\over \\partial {\\bf X} } + { \\partial {\\bf u} \\over \\partial {\\bf X} }  = {\\bf I}  + { \\partial {\\bf u} \\over \\partial {\\bf X} }\n",
    "\\end{equation}"
   ]
  },
  {
   "cell_type": "code",
   "execution_count": 16,
   "id": "49e68962",
   "metadata": {},
   "outputs": [
    {
     "data": {
      "text/latex": [
       "$\\displaystyle \\left[\\begin{matrix}\\frac{\\partial}{\\partial X_{1}} \\operatorname{u_{1}}{\\left(X_{1},X_{2},X_{3} \\right)} + 1 & \\frac{\\partial}{\\partial X_{2}} \\operatorname{u_{1}}{\\left(X_{1},X_{2},X_{3} \\right)} & \\frac{\\partial}{\\partial X_{3}} \\operatorname{u_{1}}{\\left(X_{1},X_{2},X_{3} \\right)}\\\\\\frac{\\partial}{\\partial X_{1}} \\operatorname{u_{2}}{\\left(X_{1},X_{2},X_{3} \\right)} & \\frac{\\partial}{\\partial X_{2}} \\operatorname{u_{2}}{\\left(X_{1},X_{2},X_{3} \\right)} + 1 & \\frac{\\partial}{\\partial X_{3}} \\operatorname{u_{2}}{\\left(X_{1},X_{2},X_{3} \\right)}\\\\\\frac{\\partial}{\\partial X_{1}} \\operatorname{u_{3}}{\\left(X_{1},X_{2},X_{3} \\right)} & \\frac{\\partial}{\\partial X_{2}} \\operatorname{u_{3}}{\\left(X_{1},X_{2},X_{3} \\right)} & \\frac{\\partial}{\\partial X_{3}} \\operatorname{u_{3}}{\\left(X_{1},X_{2},X_{3} \\right)} + 1\\end{matrix}\\right]$"
      ],
      "text/plain": [
       "Matrix([\n",
       "[Derivative(u_1(X1, X2, X3), X1) + 1,     Derivative(u_1(X1, X2, X3), X2),     Derivative(u_1(X1, X2, X3), X3)],\n",
       "[    Derivative(u_2(X1, X2, X3), X1), Derivative(u_2(X1, X2, X3), X2) + 1,     Derivative(u_2(X1, X2, X3), X3)],\n",
       "[    Derivative(u_3(X1, X2, X3), X1),     Derivative(u_3(X1, X2, X3), X2), Derivative(u_3(X1, X2, X3), X3) + 1]])"
      ]
     },
     "execution_count": 16,
     "metadata": {},
     "output_type": "execute_result"
    }
   ],
   "source": [
    "X1, X2, X3 = sp.symbols('X1:4')\n",
    "X = sp.Matrix([X1, X2, X3])\n",
    "\n",
    "u1 = sp.Function('u_1')(X1, X2, X3)\n",
    "u2 = sp.Function('u_2')(X1, X2, X3)\n",
    "u3 = sp.Function('u_3')(X1, X2, X3)\n",
    "\n",
    "u = sp.Matrix([u1, u2, u3])\n",
    "\n",
    "I = sp.eye(3)\n",
    "F = I + u.jacobian(X)\n",
    "F"
   ]
  },
  {
   "cell_type": "markdown",
   "id": "3257b9c4",
   "metadata": {},
   "source": [
    "es decir,\n",
    "\n",
    "\\begin{equation}\n",
    "\\boldsymbol{F} = \n",
    "\\begin{pmatrix}\n",
    "1 + \\frac{\\partial u_1}{\\partial X_1} & \\frac{\\partial u_1}{\\partial X_2}     & \\frac{\\partial u_1}{\\partial X_3}     \\\\\n",
    "\\frac{\\partial u_2}{\\partial X_1}     & 1 + \\frac{\\partial u_2}{\\partial X_2} & \\frac{\\partial u_2}{\\partial X_3}     \\\\\n",
    "\\frac{\\partial u_3}{\\partial X_1}     & \\frac{\\partial u_3}{\\partial X_2}     & 1 + \\frac{\\partial u_3}{\\partial X_3}\n",
    "\\end{pmatrix}\n",
    "\\end{equation}"
   ]
  },
  {
   "cell_type": "markdown",
   "id": "3d6d5aac",
   "metadata": {},
   "source": [
    "## Teorema de la función inversa\n",
    "\n",
    "Este teorema, que se encuentra explicado en https://en.wikipedia.org/wiki/Inverse_function_theorem nos sirve para demostrar que $\\boldsymbol{F}^{-1} = \\frac{\\partial \\boldsymbol{X}}{\\partial \\boldsymbol{x}}$:\n",
    "\n",
    "\n",
    "Supongamos que se tiene una función $f(x_1(X_1,X_2),x_2(X_1,X_2))$. Las derivadas de esta función se pueden agrupar así:\n",
    "\n",
    "\\begin{align}\n",
    "    \\begin{aligned}\n",
    "    \\frac{\\partial f}{\\partial X_1} &= \\frac{\\partial f}{\\partial x_1} \\frac{\\partial x_1}{\\partial X_1} + \\frac{\\partial f}{\\partial x_2} \\frac{\\partial x_2}{\\partial X_1}\\\\\n",
    "    \\frac{\\partial f}{\\partial X_2} &= \\frac{\\partial f}{\\partial x_1} \\frac{\\partial x_1}{\\partial X_2} + \\frac{\\partial f}{\\partial x_2} \\frac{\\partial x_2}{\\partial X_2}\n",
    "    \\end{aligned}\n",
    "    & \\qquad \\Longrightarrow \\qquad\n",
    "    \\begin{bmatrix}\n",
    "        \\frac{\\partial f}{\\partial X_1}\\\\[1em]\n",
    "        \\frac{\\partial f}{\\partial X_2}\n",
    "    \\end{bmatrix}\n",
    "    =\n",
    "    \\underbrace{\n",
    "    \\begin{bmatrix}\n",
    "        \\frac{\\partial x_1}{\\partial X_1} & \\frac{\\partial x_2}{\\partial X_1}\\\\[1em]\n",
    "        \\frac{\\partial x_1}{\\partial X_2}& \\frac{\\partial x_2}{\\partial X_2}\n",
    "    \\end{bmatrix}\n",
    "    }_{ \\boldsymbol{J}_1 = \\boldsymbol{J}}\n",
    "    \\begin{bmatrix}\n",
    "        \\frac{\\partial f}{\\partial x_1}\\\\[1em]\n",
    "        \\frac{\\partial f}{\\partial x_2}\n",
    "    \\end{bmatrix}\n",
    "\\end{align}\n",
    "\n",
    "\n",
    "\\begin{align}\n",
    "    \\begin{aligned}\n",
    "        \\frac{\\partial f}{\\partial x_1} &= \\frac{\\partial f}{\\partial X_1} \\frac{\\partial X_1}{\\partial x_1} + \\frac{\\partial f}{\\partial X_2} \\frac{\\partial X_2}{\\partial x_1} \\\\\n",
    "        \\frac{\\partial f}{\\partial x_2} &= \\frac{\\partial f}{\\partial X_1} \\frac{\\partial X_1}{\\partial x_2} + \\frac{\\partial f}{\\partial X_2} \\frac{\\partial X_2}{\\partial x_2}\n",
    "    \\end{aligned}\n",
    "    & \\qquad \\Longrightarrow \\qquad\n",
    "    \\begin{bmatrix}\n",
    "        \\frac{\\partial f}{\\partial x_1}\\\\[1em]\n",
    "        \\frac{\\partial f}{\\partial x_2}\n",
    "    \\end{bmatrix}\n",
    "    =\n",
    "    \\underbrace{\n",
    "        \\begin{bmatrix}\n",
    "            \\frac{\\partial X_1}{\\partial x_1} & \\frac{\\partial X_2}{\\partial x_1}\\\\[1em]\n",
    "            \\frac{\\partial X_1}{\\partial x_2} & \\frac{\\partial X_2}{\\partial x_2}\n",
    "        \\end{bmatrix}\n",
    "    }_{\\boldsymbol{J}_2 = \\boldsymbol{J}^{-1}}\n",
    "    \\begin{bmatrix}\n",
    "        \\frac{\\partial f}{\\partial X_1}\\\\[1em]\n",
    "        \\frac{\\partial f}{\\partial X_2}\n",
    "    \\end{bmatrix}\n",
    "\\end{align}\n",
    "\n",
    "Observe que $\\boldsymbol{J}_1 = \\boldsymbol{J}_2^{-1}$ y que $\\boldsymbol{J}_2 = \\boldsymbol{J}_1^{-1}$, por lo que $\\boldsymbol{J}_2 = \\boldsymbol{J}^{-1}$."
   ]
  },
  {
   "cell_type": "markdown",
   "id": "636fa8ef",
   "metadata": {},
   "source": [
    "## Inverso del gradiente de deformación\n",
    "\n",
    "El inverso del gradiente de deformación es la matriz jacobiana de la inversa de la función de movimiento $\\boldsymbol{\\chi}$, es decir, $\\boldsymbol{\\chi}^{-1}(\\boldsymbol{x},t)$\n",
    "\\begin{equation}\n",
    "F^{-1}_{ij} = \\frac{\\partial X_i}{\\partial x_j} =\n",
    "\\pmatrix{\n",
    "{\\partial X_1 \\over \\partial x_1} & {\\partial X_1 \\over \\partial x_2} & {\\partial X_1 \\over \\partial x_3} \\\\\n",
    "{\\partial X_2 \\over \\partial x_1} & {\\partial X_2 \\over \\partial x_2} & {\\partial X_2 \\over \\partial x_3} \\\\\n",
    "{\\partial X_3 \\over \\partial x_1} & {\\partial X_3 \\over \\partial x_2} & {\\partial X_3 \\over \\partial x_3}\n",
    "}\n",
    "\\end{equation}\n",
    "\n",
    "También se puede calcular, a partir de la expresión $\\boldsymbol{X} = \\boldsymbol{x} - \\boldsymbol{u}$, como:\n",
    "\\begin{equation}\n",
    "\\boldsymbol{F}^{-1} = {\\partial {\\bf X} \\over \\partial {\\bf x} } =  {\\partial \\over \\partial {\\bf x} } ({\\bf x} - {\\bf u}) = \n",
    "{ \\partial {\\bf x} \\over \\partial {\\bf x} } - { \\partial {\\bf u} \\over \\partial {\\bf x} }  = {\\bf I}  - { \\partial {\\bf u} \\over \\partial {\\bf x} }\n",
    "\\end{equation}"
   ]
  },
  {
   "cell_type": "code",
   "execution_count": 45,
   "id": "28f743d8",
   "metadata": {},
   "outputs": [
    {
     "data": {
      "text/latex": [
       "$\\displaystyle \\left[\\begin{matrix}1 - \\frac{\\partial}{\\partial x_{1}} \\operatorname{u_{1}}{\\left(x_{1},x_{2},x_{3} \\right)} & - \\frac{\\partial}{\\partial x_{2}} \\operatorname{u_{1}}{\\left(x_{1},x_{2},x_{3} \\right)} & - \\frac{\\partial}{\\partial x_{3}} \\operatorname{u_{1}}{\\left(x_{1},x_{2},x_{3} \\right)}\\\\- \\frac{\\partial}{\\partial x_{1}} \\operatorname{u_{2}}{\\left(x_{1},x_{2},x_{3} \\right)} & 1 - \\frac{\\partial}{\\partial x_{2}} \\operatorname{u_{2}}{\\left(x_{1},x_{2},x_{3} \\right)} & - \\frac{\\partial}{\\partial x_{3}} \\operatorname{u_{2}}{\\left(x_{1},x_{2},x_{3} \\right)}\\\\- \\frac{\\partial}{\\partial x_{1}} \\operatorname{u_{3}}{\\left(x_{1},x_{2},x_{3} \\right)} & - \\frac{\\partial}{\\partial x_{2}} \\operatorname{u_{3}}{\\left(x_{1},x_{2},x_{3} \\right)} & 1 - \\frac{\\partial}{\\partial x_{3}} \\operatorname{u_{3}}{\\left(x_{1},x_{2},x_{3} \\right)}\\end{matrix}\\right]$"
      ],
      "text/plain": [
       "Matrix([\n",
       "[1 - Derivative(u_1(x1, x2, x3), x1),    -Derivative(u_1(x1, x2, x3), x2),    -Derivative(u_1(x1, x2, x3), x3)],\n",
       "[   -Derivative(u_2(x1, x2, x3), x1), 1 - Derivative(u_2(x1, x2, x3), x2),    -Derivative(u_2(x1, x2, x3), x3)],\n",
       "[   -Derivative(u_3(x1, x2, x3), x1),    -Derivative(u_3(x1, x2, x3), x2), 1 - Derivative(u_3(x1, x2, x3), x3)]])"
      ]
     },
     "execution_count": 45,
     "metadata": {},
     "output_type": "execute_result"
    }
   ],
   "source": [
    "x1, x2, x3 = sp.symbols('x1:4')\n",
    "x = sp.Matrix([x1, x2, x3])\n",
    "\n",
    "u1 = sp.Function('u_1')(x1, x2, x3)\n",
    "u2 = sp.Function('u_2')(x1, x2, x3)\n",
    "u3 = sp.Function('u_3')(x1, x2, x3)\n",
    "\n",
    "u = sp.Matrix([u1, u2, u3])\n",
    "\n",
    "I = sp.eye(3)\n",
    "Fm1 = I - u.jacobian(x)\n",
    "Fm1"
   ]
  },
  {
   "cell_type": "markdown",
   "id": "1a9412bf",
   "metadata": {},
   "source": [
    "es decir,\n",
    "\n",
    "\\begin{equation}\n",
    "\\boldsymbol{F}^{-1} = \n",
    "\\begin{pmatrix}\n",
    "1 - \\frac{\\partial u_1}{\\partial x_1} & -\\frac{\\partial u_1}{\\partial x_2}     & -\\frac{\\partial u_1}{\\partial x_3}     \\\\\n",
    "-\\frac{\\partial u_2}{\\partial x_1}     & 1 - \\frac{\\partial u_2}{\\partial x_2} & -\\frac{\\partial u_2}{\\partial x_3}     \\\\\n",
    "-\\frac{\\partial u_3}{\\partial x_1}     & -\\frac{\\partial u_3}{\\partial x_2}     & 1 - \\frac{\\partial u_3}{\\partial x_3}\n",
    "\\end{pmatrix}\n",
    "\\end{equation}"
   ]
  },
  {
   "cell_type": "markdown",
   "id": "c0191eaf",
   "metadata": {},
   "source": [
    "## El tensor de Green-Lagrange o tensor lagrangiano\n",
    "\n",
    "Dicho tensor está definido como:\n",
    "\\begin{equation}\n",
    "\\boldsymbol{E} = \\frac{1}{2}\\left(\\boldsymbol{C} - \\boldsymbol{I}\\right) = \\frac{1}{2}\\left(\\boldsymbol{F}^{T}\\boldsymbol{F} - \\boldsymbol{I}\\right)\n",
    "\\end{equation}"
   ]
  },
  {
   "cell_type": "code",
   "execution_count": 60,
   "id": "0a09d300",
   "metadata": {},
   "outputs": [],
   "source": [
    "E = (F.T*F - I)/2"
   ]
  },
  {
   "cell_type": "code",
   "execution_count": 61,
   "id": "508a3929",
   "metadata": {},
   "outputs": [
    {
     "data": {
      "text/latex": [
       "$\\displaystyle \\frac{\\left(\\frac{d}{d X_{1}} u_{1}\\right)^{2}}{2} + \\frac{d}{d X_{1}} u_{1} + \\frac{\\left(\\frac{d}{d X_{1}} u_{2}\\right)^{2}}{2} + \\frac{\\left(\\frac{d}{d X_{1}} u_{3}\\right)^{2}}{2}$"
      ],
      "text/plain": [
       "Derivative(u_1, X1)**2/2 + Derivative(u_1, X1) + Derivative(u_2, X1)**2/2 + Derivative(u_3, X1)**2/2"
      ]
     },
     "metadata": {},
     "output_type": "display_data"
    }
   ],
   "source": [
    "display_no_args(sp.expand(E[0,0]))"
   ]
  },
  {
   "cell_type": "code",
   "execution_count": 62,
   "id": "0958b6a0",
   "metadata": {},
   "outputs": [
    {
     "data": {
      "text/latex": [
       "$\\displaystyle \\frac{\\frac{d}{d X_{1}} u_{1} \\frac{d}{d X_{2}} u_{1}}{2} + \\frac{\\frac{d}{d X_{2}} u_{1}}{2} + \\frac{\\frac{d}{d X_{1}} u_{2} \\frac{d}{d X_{2}} u_{2}}{2} + \\frac{\\frac{d}{d X_{1}} u_{2}}{2} + \\frac{\\frac{d}{d X_{1}} u_{3} \\frac{d}{d X_{2}} u_{3}}{2}$"
      ],
      "text/plain": [
       "Derivative(u_1, X1)*Derivative(u_1, X2)/2 + Derivative(u_1, X2)/2 + Derivative(u_2, X1)*Derivative(u_2, X2)/2 + Derivative(u_2, X1)/2 + Derivative(u_3, X1)*Derivative(u_3, X2)/2"
      ]
     },
     "metadata": {},
     "output_type": "display_data"
    }
   ],
   "source": [
    "display_no_args(sp.expand([0,1]))"
   ]
  },
  {
   "cell_type": "markdown",
   "id": "39bb8f60",
   "metadata": {},
   "source": [
    "En otras palabras:\n",
    "\\begin{align}\n",
    "E_{11} &= \\frac{d u_1}{d X_1} + \\frac{1}{2}\\left[{\\left(\\frac{d u_1}{d X_1}\\right)^2} + {\\left(\\frac{d u_2}{d X_1} \\right)^2} + {\\left(\\frac{d u_3}{d X_1} \\right)^2}\\right]\\\\\n",
    "E_{22} &= \\frac{d u_2}{d X_2} + \\frac{1}{2}\\left[{\\left(\\frac{d u_1}{d X_2}\\right)^2} + {\\left(\\frac{d u_2}{d X_2} \\right)^2} + {\\left(\\frac{d u_3}{d X_2} \\right)^2}\\right]\\\\\n",
    "E_{33} &= \\frac{d u_3}{d X_3} + \\frac{1}{2}\\left[{\\left(\\frac{d u_1}{d X_3}\\right)^2} + {\\left(\\frac{d u_2}{d X_3} \\right)^2} + {\\left(\\frac{d u_3}{d X_3} \\right)^2}\\right]\\\\\n",
    "%\n",
    "E_{12} &= \\frac{1}{2}\\left({\\frac{d u_1}{d X_2}} + {\\frac{d u_2}{d X_1}}\\right) + \\frac{1}{2}\\left({\\frac{d u_1}{d X_1} \\frac{d u_1}{d X_2}} + {\\frac{d u_2}{d X_1} \\frac{d u_2}{d X_2}} + {\\frac{d u_3}{d X_1} \\frac{d u_3}{d X_2} }\\right)\\\\\n",
    "E_{13} &= \\frac{1}{2}\\left({\\frac{d u_1}{d X_3}} + {\\frac{d u_3}{d X_1}}\\right) + \\frac{1}{2}\\left({\\frac{d u_1}{d X_1} \\frac{d u_1}{d X_3}} + {\\frac{d u_2}{d X_1} \\frac{d u_2}{d X_3}} + {\\frac{d u_3}{d X_1} \\frac{d u_3}{d X_3} }\\right)\\\\\n",
    "E_{23} &= \\frac{1}{2}\\left({\\frac{d u_2}{d X_3}} + {\\frac{d u_3}{d X_2}}\\right) + \\frac{1}{2}\\left({\\frac{d u_1}{d X_2} \\frac{d u_1}{d X_3}} + {\\frac{d u_2}{d X_2} \\frac{d u_2}{d X_3}} + {\\frac{d u_3}{d X_2} \\frac{d u_3}{d X_3} }\\right)\n",
    "\\end{align}\n",
    "\n",
    "lo cual se escribe utilizando la notación indicial como:\n",
    "\\begin{equation}\n",
    "E_{ij} = \\frac{1}{2}\\left({\\frac{d u_i}{d X_j}} + {\\frac{d u_j}{d X_i}}\\right) + \\frac{1}{2}\\left(\\frac{d u_k}{d X_i} \\frac{d u_k}{d X_j} \\right)\n",
    "\\end{equation}"
   ]
  },
  {
   "cell_type": "markdown",
   "id": "bcce92ad",
   "metadata": {},
   "source": [
    "## El tensor de Euler-Almansi o tensor euleriano\n",
    "\n",
    "Dicho tensor está definido como:\n",
    "\\begin{equation}\n",
    "\\boldsymbol{E} = \\frac{1}{2}\\left(\\boldsymbol{I} - \\boldsymbol{B}^{-1}\\right) = \\frac{1}{2}\\left(\\boldsymbol{I} - \\boldsymbol{F}^{-T}\\boldsymbol{F}^{-1}\\right)\n",
    "\\end{equation}"
   ]
  },
  {
   "cell_type": "code",
   "execution_count": 57,
   "id": "8cea3927",
   "metadata": {},
   "outputs": [],
   "source": [
    "e = (I - Fm1.T*Fm1)/2"
   ]
  },
  {
   "cell_type": "code",
   "execution_count": 58,
   "id": "7ef4a692",
   "metadata": {},
   "outputs": [
    {
     "data": {
      "text/latex": [
       "$\\displaystyle - \\frac{\\left(\\frac{d}{d x_{1}} u_{1}\\right)^{2}}{2} + \\frac{d}{d x_{1}} u_{1} - \\frac{\\left(\\frac{d}{d x_{1}} u_{2}\\right)^{2}}{2} - \\frac{\\left(\\frac{d}{d x_{1}} u_{3}\\right)^{2}}{2}$"
      ],
      "text/plain": [
       "-Derivative(u_1, x1)**2/2 + Derivative(u_1, x1) - Derivative(u_2, x1)**2/2 - Derivative(u_3, x1)**2/2"
      ]
     },
     "metadata": {},
     "output_type": "display_data"
    }
   ],
   "source": [
    "display_no_args(sp.expand(e[0,0]))"
   ]
  },
  {
   "cell_type": "code",
   "execution_count": 59,
   "id": "eefbba58",
   "metadata": {},
   "outputs": [
    {
     "data": {
      "text/latex": [
       "$\\displaystyle - \\frac{\\frac{d}{d x_{1}} u_{1} \\frac{d}{d x_{2}} u_{1}}{2} + \\frac{\\frac{d}{d x_{2}} u_{1}}{2} - \\frac{\\frac{d}{d x_{1}} u_{2} \\frac{d}{d x_{2}} u_{2}}{2} + \\frac{\\frac{d}{d x_{1}} u_{2}}{2} - \\frac{\\frac{d}{d x_{1}} u_{3} \\frac{d}{d x_{2}} u_{3}}{2}$"
      ],
      "text/plain": [
       "-Derivative(u_1, x1)*Derivative(u_1, x2)/2 + Derivative(u_1, x2)/2 - Derivative(u_2, x1)*Derivative(u_2, x2)/2 + Derivative(u_2, x1)/2 - Derivative(u_3, x1)*Derivative(u_3, x2)/2"
      ]
     },
     "metadata": {},
     "output_type": "display_data"
    }
   ],
   "source": [
    "display_no_args(sp.expand(e[0,1]))"
   ]
  },
  {
   "cell_type": "markdown",
   "id": "919acca2",
   "metadata": {},
   "source": [
    "En otras palabras:\n",
    "\\begin{align}\n",
    "e_{11} &= \\frac{d u_1}{d x_1} - \\frac{1}{2}\\left[{\\left(\\frac{d u_1}{d x_1}\\right)^2} + {\\left(\\frac{d u_2}{d x_1} \\right)^2} + {\\left(\\frac{d u_3}{d x_1} \\right)^2}\\right]\\\\\n",
    "e_{22} &= \\frac{d u_2}{d x_2} - \\frac{1}{2}\\left[{\\left(\\frac{d u_1}{d x_2}\\right)^2} + {\\left(\\frac{d u_2}{d x_2} \\right)^2} + {\\left(\\frac{d u_3}{d x_2} \\right)^2}\\right]\\\\\n",
    "e_{33} &= \\frac{d u_3}{d x_3} - \\frac{1}{2}\\left[{\\left(\\frac{d u_1}{d x_3}\\right)^2} + {\\left(\\frac{d u_2}{d x_3} \\right)^2} + {\\left(\\frac{d u_3}{d x_3} \\right)^2}\\right]\\\\\n",
    "%\n",
    "e_{12} &= \\frac{1}{2}\\left({\\frac{d u_1}{d x_2}} + {\\frac{d u_2}{d x_1}}\\right) - \\frac{1}{2}\\left({\\frac{d u_1}{d x_1} \\frac{d u_1}{d x_2}} + {\\frac{d u_2}{d x_1} \\frac{d u_2}{d x_2}} + {\\frac{d u_3}{d x_1} \\frac{d u_3}{d x_2} }\\right)\\\\\n",
    "e_{13} &= \\frac{1}{2}\\left({\\frac{d u_1}{d x_3}} + {\\frac{d u_3}{d x_1}}\\right) - \\frac{1}{2}\\left({\\frac{d u_1}{d x_1} \\frac{d u_1}{d x_3}} + {\\frac{d u_2}{d x_1} \\frac{d u_2}{d x_3}} + {\\frac{d u_3}{d x_1} \\frac{d u_3}{d x_3} }\\right)\\\\\n",
    "e_{23} &= \\frac{1}{2}\\left({\\frac{d u_2}{d x_3}} + {\\frac{d u_3}{d x_2}}\\right) - \\frac{1}{2}\\left({\\frac{d u_1}{d x_2} \\frac{d u_1}{d x_3}} + {\\frac{d u_2}{d x_2} \\frac{d u_2}{d x_3}} + {\\frac{d u_3}{d x_2} \\frac{d u_3}{d x_3} }\\right)\n",
    "\\end{align}\n",
    "\n",
    "lo cual se escribe utilizando la notación indicial como:\n",
    "\\begin{equation}\n",
    "e_{ij} = \\frac{1}{2}\\left({\\frac{d u_i}{d x_j}} + {\\frac{d u_j}{d x_i}}\\right) - \\frac{1}{2}\\left(\\frac{d u_k}{d x_i} \\frac{d u_k}{d x_j} \\right)\n",
    "\\end{equation}"
   ]
  },
  {
   "cell_type": "code",
   "execution_count": null,
   "id": "edeb1204",
   "metadata": {},
   "outputs": [],
   "source": []
  }
 ],
 "metadata": {
  "kernelspec": {
   "display_name": "Python 3 (ipykernel)",
   "language": "python",
   "name": "python3"
  },
  "language_info": {
   "codemirror_mode": {
    "name": "ipython",
    "version": 3
   },
   "file_extension": ".py",
   "mimetype": "text/x-python",
   "name": "python",
   "nbconvert_exporter": "python",
   "pygments_lexer": "ipython3",
   "version": "3.9.12"
  }
 },
 "nbformat": 4,
 "nbformat_minor": 5
}
