{
 "cells": [
  {
   "cell_type": "markdown",
   "id": "7adb3636-0e0b-4de5-811e-a54d37f08363",
   "metadata": {},
   "source": [
    "# Demostración del delta de Kronecker"
   ]
  },
  {
   "cell_type": "markdown",
   "id": "89b618dd-7c2a-4cb3-a966-6e2ef1ffe2a7",
   "metadata": {},
   "source": [
    "En este cuaderno se demostrará la propiedad:\n",
    "\\begin{equation}\n",
    "\\delta_{ij} = \\delta_{im} \\delta_{mn} \\delta_{nj} \n",
    "\\end{equation}"
   ]
  },
  {
   "cell_type": "code",
   "execution_count": 1,
   "id": "d9c0f459-6d9f-4606-8585-1fc9ea6a228a",
   "metadata": {},
   "outputs": [],
   "source": [
    "from sympy import KroneckerDelta, zeros"
   ]
  },
  {
   "cell_type": "code",
   "execution_count": 2,
   "id": "2239d565-cec9-4c64-a755-dab5a7c8a3ff",
   "metadata": {
    "tags": []
   },
   "outputs": [
    {
     "data": {
      "text/latex": [
       "$\\displaystyle \\left[\\begin{matrix}1 & 0 & 0\\\\0 & 1 & 0\\\\0 & 0 & 1\\end{matrix}\\right]$"
      ],
      "text/plain": [
       "Matrix([\n",
       "[1, 0, 0],\n",
       "[0, 1, 0],\n",
       "[0, 0, 1]])"
      ]
     },
     "execution_count": 2,
     "metadata": {},
     "output_type": "execute_result"
    }
   ],
   "source": [
    "# se separa el espacio de memoria para guardar la matriz I\n",
    "I = zeros(3, 3)\n",
    "\n",
    "for i in range(3):\n",
    "    for j in range(3):\n",
    "        suma = 0\n",
    "        for m in range(3):\n",
    "            for n in range(3):                \n",
    "                suma += KroneckerDelta(i,m)*KroneckerDelta(m,n)*KroneckerDelta(n,j)\n",
    "        I[i,j] = suma\n",
    "                \n",
    "I                "
   ]
  }
 ],
 "metadata": {
  "kernelspec": {
   "display_name": "Python 3 (ipykernel)",
   "language": "python",
   "name": "python3"
  },
  "language_info": {
   "codemirror_mode": {
    "name": "ipython",
    "version": 3
   },
   "file_extension": ".py",
   "mimetype": "text/x-python",
   "name": "python",
   "nbconvert_exporter": "python",
   "pygments_lexer": "ipython3",
   "version": "3.10.9"
  }
 },
 "nbformat": 4,
 "nbformat_minor": 5
}
