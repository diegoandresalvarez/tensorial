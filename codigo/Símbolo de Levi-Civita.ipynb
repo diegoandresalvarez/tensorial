{
 "cells": [
  {
   "cell_type": "markdown",
   "id": "4d3ad92d",
   "metadata": {},
   "source": [
    "# El símbolo de Levi-Civita\n",
    "\n",
    "El *símbolo de Levi-Civita*, *símbolo de permutación* o *símbolo alternante*, propuesto por el matemático italiano Tulio Levi-Civita (1873-1941), se define como:\n",
    "\n",
    "\\begin{equation}\n",
    "\\epsilon_{ijk} =\n",
    "\\begin{cases}\n",
    " +1 & \\text{si } (i,j,k) \\text{ es } (1,2,3), (2,3,1) \\text{ o } (3,1,2)\\\\\n",
    "- 1 & \\text{si } (i,j,k) \\text{ es } (3,2,1), (1,3,2) \\text{ o } (2,1,3)\\\\\n",
    "  0 & \\text{de otro modo }i=j \\text{ o } j=k \\text{ o } k=i\n",
    "\\end{cases}\n",
    "\\end{equation}\n",
    "\n",
    "y se ilustra así:\n",
    "\n",
    "<img src=\"https://upload.wikimedia.org/wikipedia/commons/thumb/7/71/Epsilontensor.svg/320px-Epsilontensor.svg.png\" />\n",
    "\n",
    "donde $i$ es la profundidad (azul: $i = 1$; rojo: $i = 2$; verde: $i = 3$)), $j$ es la fila y $k$ es la columna.\n",
    "\n",
    "Este símbolo se emplea para escribir en notación indicial el producto cruz y el determinante de una matriz, como veremos a continuación.\n",
    "\n",
    "Tenga en cuenta que el símbolo de Levi-Civita está programado en SYMPY en la función [`Eijk`](https://docs.sympy.org/latest/modules/functions/special.html#sympy.functions.special.tensor_functions.Eijk) que es sinónimo de la función [`LeviCivita`](https://docs.sympy.org/latest/modules/functions/special.html#sympy.functions.special.tensor_functions.LeviCivita):"
   ]
  },
  {
   "cell_type": "code",
   "execution_count": 1,
   "id": "3e304a0d",
   "metadata": {},
   "outputs": [],
   "source": [
    "import sympy as sp"
   ]
  },
  {
   "cell_type": "code",
   "execution_count": 2,
   "id": "9f81ed7d",
   "metadata": {},
   "outputs": [
    {
     "data": {
      "text/latex": [
       "$\\displaystyle 1$"
      ],
      "text/plain": [
       "1"
      ]
     },
     "execution_count": 2,
     "metadata": {},
     "output_type": "execute_result"
    }
   ],
   "source": [
    "sp.Eijk(0,1,2)"
   ]
  },
  {
   "cell_type": "code",
   "execution_count": 3,
   "id": "161f93ae",
   "metadata": {},
   "outputs": [
    {
     "data": {
      "text/latex": [
       "$\\displaystyle -1$"
      ],
      "text/plain": [
       "-1"
      ]
     },
     "execution_count": 3,
     "metadata": {},
     "output_type": "execute_result"
    }
   ],
   "source": [
    "sp.LeviCivita(1,0,2)"
   ]
  },
  {
   "cell_type": "code",
   "execution_count": 4,
   "id": "662ced67",
   "metadata": {},
   "outputs": [
    {
     "data": {
      "text/latex": [
       "$\\displaystyle 1$"
      ],
      "text/plain": [
       "1"
      ]
     },
     "execution_count": 4,
     "metadata": {},
     "output_type": "execute_result"
    }
   ],
   "source": [
    "sp.Eijk(1,2,3)"
   ]
  },
  {
   "cell_type": "code",
   "execution_count": 5,
   "id": "0961ea82",
   "metadata": {},
   "outputs": [
    {
     "data": {
      "text/latex": [
       "$\\displaystyle -1$"
      ],
      "text/plain": [
       "-1"
      ]
     },
     "execution_count": 5,
     "metadata": {},
     "output_type": "execute_result"
    }
   ],
   "source": [
    "sp.LeviCivita(2,1,3)"
   ]
  },
  {
   "cell_type": "code",
   "execution_count": 6,
   "id": "69c935e2",
   "metadata": {},
   "outputs": [
    {
     "data": {
      "text/latex": [
       "$\\displaystyle 0$"
      ],
      "text/plain": [
       "0"
      ]
     },
     "execution_count": 6,
     "metadata": {},
     "output_type": "execute_result"
    }
   ],
   "source": [
    "sp.Eijk(1,1,2)"
   ]
  },
  {
   "cell_type": "markdown",
   "id": "23254785",
   "metadata": {},
   "source": [
    "## El determinante de una matriz 3x3\n",
    "\n",
    "El determinante de una matriz 3x3 se puede escribir utilizando el símbolo de Levi-Civita como:\n",
    "\\begin{equation}\n",
    "\\det(\\boldsymbol{A}) = \\sum_{i=1}^3 \\sum_{j=1}^3 \\sum_{k=1}^3 \\varepsilon_{ijk} a_{i1} a_{j2} a_{k3}\n",
    "\\end{equation}\n",
    "lo cual se escribe en notación indicial como:\n",
    "\\begin{equation}\n",
    "\\det(\\boldsymbol{A}) = \\varepsilon_{ijk} a_{i1} a_{j2} a_{k3}\n",
    "\\end{equation}\n",
    "\n",
    "Con el siguiente programa de PYTHON+SYMPY verificaremos esa fórmula, teniendo en cuenta que PYTHON indexa los tensores (vectores, matrices, etc) desde cero:"
   ]
  },
  {
   "cell_type": "code",
   "execution_count": 7,
   "id": "0e927a3b",
   "metadata": {},
   "outputs": [
    {
     "data": {
      "text/latex": [
       "$\\displaystyle \\left[\\begin{array}{ccc}a_{0, 0} & a_{0, 1} & a_{0, 2}\\\\a_{1, 0} & a_{1, 1} & a_{1, 2}\\\\a_{2, 0} & a_{2, 1} & a_{2, 2}\\end{array}\\right]$"
      ],
      "text/plain": [
       "Matrix([\n",
       "[a[0, 0], a[0, 1], a[0, 2]],\n",
       "[a[1, 0], a[1, 1], a[1, 2]],\n",
       "[a[2, 0], a[2, 1], a[2, 2]]])"
      ]
     },
     "execution_count": 7,
     "metadata": {},
     "output_type": "execute_result"
    }
   ],
   "source": [
    "# se define la matriz A\n",
    "A = sp.Matrix(sp.MatrixSymbol('a', 3, 3)); A"
   ]
  },
  {
   "cell_type": "code",
   "execution_count": 8,
   "id": "01d7fc99",
   "metadata": {},
   "outputs": [
    {
     "data": {
      "text/latex": [
       "$\\displaystyle a_{0, 0} a_{1, 1} a_{2, 2} - a_{0, 0} a_{1, 2} a_{2, 1} - a_{0, 1} a_{1, 0} a_{2, 2} + a_{0, 1} a_{1, 2} a_{2, 0} + a_{0, 2} a_{1, 0} a_{2, 1} - a_{0, 2} a_{1, 1} a_{2, 0}$"
      ],
      "text/plain": [
       "a[0, 0]*a[1, 1]*a[2, 2] - a[0, 0]*a[1, 2]*a[2, 1] - a[0, 1]*a[1, 0]*a[2, 2] + a[0, 1]*a[1, 2]*a[2, 0] + a[0, 2]*a[1, 0]*a[2, 1] - a[0, 2]*a[1, 1]*a[2, 0]"
      ]
     },
     "execution_count": 8,
     "metadata": {},
     "output_type": "execute_result"
    }
   ],
   "source": [
    "# se calcula el determinante de la matriz A\n",
    "det1 = sp.det(A); det1"
   ]
  },
  {
   "cell_type": "code",
   "execution_count": 9,
   "id": "cf1d3d0a",
   "metadata": {},
   "outputs": [
    {
     "data": {
      "text/latex": [
       "$\\displaystyle a_{0, 0} a_{1, 1} a_{2, 2} - a_{0, 0} a_{1, 2} a_{2, 1} - a_{0, 1} a_{1, 0} a_{2, 2} + a_{0, 1} a_{1, 2} a_{2, 0} + a_{0, 2} a_{1, 0} a_{2, 1} - a_{0, 2} a_{1, 1} a_{2, 0}$"
      ],
      "text/plain": [
       "a[0, 0]*a[1, 1]*a[2, 2] - a[0, 0]*a[1, 2]*a[2, 1] - a[0, 1]*a[1, 0]*a[2, 2] + a[0, 1]*a[1, 2]*a[2, 0] + a[0, 2]*a[1, 0]*a[2, 1] - a[0, 2]*a[1, 1]*a[2, 0]"
      ]
     },
     "execution_count": 9,
     "metadata": {},
     "output_type": "execute_result"
    }
   ],
   "source": [
    "# se verifica la ecuación anterior\n",
    "det2 = 0\n",
    "for i in range(3):\n",
    "    for j in range(3):\n",
    "        for k in range(3):\n",
    "            det2 += sp.Eijk(i,j,k)*A[i,0]*A[j,1]*A[k,2]\n",
    "det2"
   ]
  },
  {
   "cell_type": "code",
   "execution_count": 10,
   "id": "e6ace25c",
   "metadata": {},
   "outputs": [
    {
     "data": {
      "text/latex": [
       "$\\displaystyle 0$"
      ],
      "text/plain": [
       "0"
      ]
     },
     "execution_count": 10,
     "metadata": {},
     "output_type": "execute_result"
    }
   ],
   "source": [
    "# se restan ambas soluciones y si da cero quiere decir que ambas soluciones son iguales\n",
    "det1 - det2"
   ]
  },
  {
   "cell_type": "markdown",
   "id": "7573d87e",
   "metadata": {},
   "source": [
    "## El producto cruz\n",
    "\n",
    "El producto cruz entre dos vectores $\\boldsymbol{a}$ y $\\boldsymbol{b}$ se puede escribir utilizando el tensor de Levi-Civita como:\n",
    "\n",
    "\\begin{equation}\n",
    "\\boldsymbol{a} \\times \\boldsymbol{b} =\n",
    "  \\begin{vmatrix} \n",
    "    \\hat{\\boldsymbol{e}}_1 & \\hat{\\boldsymbol{e}}_2 & \\hat{\\boldsymbol{e}}_3 \\\\\n",
    "    a_1 & a_2 & a_3 \\\\\n",
    "    b_1 & b_2 & b_3 \\\\\n",
    "  \\end{vmatrix}\n",
    "= \\sum_{i=1}^3 \\left(\n",
    "\\sum_{j,k=1}^3 \\epsilon_{ijk} a_j b_k \\right) \\hat{\\boldsymbol{e}}_i\n",
    "\\end{equation}\n",
    "\n",
    "lo cual se expresa en notación indicial como:\n",
    "\n",
    "\\begin{equation}\n",
    "\\boldsymbol{a} \\times \\boldsymbol{b} = \\epsilon_{ijk} a_j b_k \\hat{\\boldsymbol{e}}_i.\n",
    "\\end{equation}\n",
    "\n",
    "Con el siguiente programa de PYTHON+SYMPY verificaremos esa fórmula, teniendo en cuenta que PYTHON indexa los tensores (vectores, matrices, etc) desde cero:"
   ]
  },
  {
   "cell_type": "code",
   "execution_count": 11,
   "id": "e8136554",
   "metadata": {},
   "outputs": [
    {
     "data": {
      "text/latex": [
       "$\\displaystyle \\left[\\begin{matrix}a_{0}\\\\a_{1}\\\\a_{2}\\end{matrix}\\right]$"
      ],
      "text/plain": [
       "Matrix([\n",
       "[a0],\n",
       "[a1],\n",
       "[a2]])"
      ]
     },
     "execution_count": 11,
     "metadata": {},
     "output_type": "execute_result"
    }
   ],
   "source": [
    "# se define el vector a\n",
    "a0,a1,a2 = sp.symbols(\"a0,a1,a2\")\n",
    "a = sp.Matrix([a0,a1,a2])\n",
    "a"
   ]
  },
  {
   "cell_type": "code",
   "execution_count": 12,
   "id": "49c3382d",
   "metadata": {},
   "outputs": [
    {
     "data": {
      "text/latex": [
       "$\\displaystyle \\left[\\begin{matrix}b_{0}\\\\b_{1}\\\\b_{2}\\end{matrix}\\right]$"
      ],
      "text/plain": [
       "Matrix([\n",
       "[b0],\n",
       "[b1],\n",
       "[b2]])"
      ]
     },
     "execution_count": 12,
     "metadata": {},
     "output_type": "execute_result"
    }
   ],
   "source": [
    "# se define el vector b\n",
    "b0,b1,b2 = sp.symbols(\"b0,b1,b2\")\n",
    "b = sp.Matrix([b0,b1,b2])\n",
    "b"
   ]
  },
  {
   "cell_type": "code",
   "execution_count": 13,
   "id": "6a4bfa60",
   "metadata": {},
   "outputs": [
    {
     "data": {
      "text/latex": [
       "$\\displaystyle \\left[\\begin{matrix}a_{1} b_{2} - a_{2} b_{1}\\\\- a_{0} b_{2} + a_{2} b_{0}\\\\a_{0} b_{1} - a_{1} b_{0}\\end{matrix}\\right]$"
      ],
      "text/plain": [
       "Matrix([\n",
       "[ a1*b2 - a2*b1],\n",
       "[-a0*b2 + a2*b0],\n",
       "[ a0*b1 - a1*b0]])"
      ]
     },
     "execution_count": 13,
     "metadata": {},
     "output_type": "execute_result"
    }
   ],
   "source": [
    "# Y se calcula su producto cruz a x b\n",
    "prod_cruz1 = a.cross(b)\n",
    "prod_cruz1"
   ]
  },
  {
   "cell_type": "code",
   "execution_count": 14,
   "id": "d98ecc73",
   "metadata": {},
   "outputs": [
    {
     "data": {
      "text/latex": [
       "$\\displaystyle \\left[\\begin{matrix}a_{1} b_{2} - a_{2} b_{1}\\\\- a_{0} b_{2} + a_{2} b_{0}\\\\a_{0} b_{1} - a_{1} b_{0}\\end{matrix}\\right]$"
      ],
      "text/plain": [
       "Matrix([\n",
       "[ a1*b2 - a2*b1],\n",
       "[-a0*b2 + a2*b0],\n",
       "[ a0*b1 - a1*b0]])"
      ]
     },
     "execution_count": 14,
     "metadata": {},
     "output_type": "execute_result"
    }
   ],
   "source": [
    "# Se verifica la fórmula utilizando el tensor de Levi-Civita\n",
    "prod_cruz2 = sp.zeros(3,1)\n",
    "for i in range(3):\n",
    "    suma = 0\n",
    "    for j in range(3):    \n",
    "        for k in range(3):\n",
    "            suma += a[j]*b[k]*sp.Eijk(i,j,k)\n",
    "    prod_cruz2[i] = suma\n",
    "prod_cruz2"
   ]
  },
  {
   "cell_type": "code",
   "execution_count": 15,
   "id": "292059c7",
   "metadata": {},
   "outputs": [
    {
     "data": {
      "text/latex": [
       "$\\displaystyle \\left[\\begin{matrix}0\\\\0\\\\0\\end{matrix}\\right]$"
      ],
      "text/plain": [
       "Matrix([\n",
       "[0],\n",
       "[0],\n",
       "[0]])"
      ]
     },
     "execution_count": 15,
     "metadata": {},
     "output_type": "execute_result"
    }
   ],
   "source": [
    "# Al restar ambos vectores, se obtiene el vector nulo, lo que nos dice que las dos ecuaciones son iguales:\n",
    "prod_cruz1 - prod_cruz2"
   ]
  },
  {
   "cell_type": "markdown",
   "id": "0e6f14dc",
   "metadata": {},
   "source": [
    "# La igualdad $\\varepsilon_{ijm}\\varepsilon_{klm} = \\delta_{ik}\\delta_{jl} - \\delta_{il}\\delta_{jk}$"
   ]
  },
  {
   "cell_type": "markdown",
   "id": "fa36cc78",
   "metadata": {},
   "source": [
    "Recordemos que el delta de Kronecker, llamado así en referencia al matemático alemán Leopold Kronecker (1823 - 1891),  está definido por:\n",
    "\\begin{equation*}\n",
    "\\delta_{ij} = \\begin{cases}\n",
    "0 &\\text{si } i \\neq j,   \\\\\n",
    "1 &\\text{si } i=j.   \\end{cases}\n",
    "\\end{equation*}\n",
    "y se encuentra programado en SYMPY en la función [`KroneckerDelta`](https://docs.sympy.org/latest/modules/functions/special.html?highlight=kronecker#sympy.functions.special.tensor_functions.KroneckerDelta)."
   ]
  },
  {
   "cell_type": "code",
   "execution_count": 16,
   "id": "17d8a0f2",
   "metadata": {},
   "outputs": [
    {
     "data": {
      "text/latex": [
       "$\\displaystyle 1$"
      ],
      "text/plain": [
       "1"
      ]
     },
     "execution_count": 16,
     "metadata": {},
     "output_type": "execute_result"
    }
   ],
   "source": [
    "sp.KroneckerDelta(1,1)"
   ]
  },
  {
   "cell_type": "code",
   "execution_count": 17,
   "id": "c95e6706",
   "metadata": {},
   "outputs": [
    {
     "data": {
      "text/latex": [
       "$\\displaystyle 0$"
      ],
      "text/plain": [
       "0"
      ]
     },
     "execution_count": 17,
     "metadata": {},
     "output_type": "execute_result"
    }
   ],
   "source": [
    "sp.KroneckerDelta(1,2)"
   ]
  },
  {
   "cell_type": "markdown",
   "id": "f6a0d01e",
   "metadata": {},
   "source": [
    "Con el siguiente programa de PYTHON, podemos probar la identidad $\\varepsilon_{ijm}\\varepsilon_{klm} = \\delta_{ik}\\delta_{jl} - \\delta_{il}\\delta_{jk}$:"
   ]
  },
  {
   "cell_type": "code",
   "execution_count": 18,
   "id": "b960a65a",
   "metadata": {
    "scrolled": true
   },
   "outputs": [
    {
     "name": "stdout",
     "output_type": "stream",
     "text": [
      "Observe que en todos los posibles casos las igualadades se conservan\n",
      "ijkl = 0000,  0 =  0\n",
      "ijkl = 0001,  0 =  0\n",
      "ijkl = 0002,  0 =  0\n",
      "ijkl = 0010,  0 =  0\n",
      "ijkl = 0011,  0 =  0\n",
      "ijkl = 0012,  0 =  0\n",
      "ijkl = 0020,  0 =  0\n",
      "ijkl = 0021,  0 =  0\n",
      "ijkl = 0022,  0 =  0\n",
      "ijkl = 0100,  0 =  0\n",
      "ijkl = 0101,  1 =  1\n",
      "ijkl = 0102,  0 =  0\n",
      "ijkl = 0110, -1 = -1\n",
      "ijkl = 0111,  0 =  0\n",
      "ijkl = 0112,  0 =  0\n",
      "ijkl = 0120,  0 =  0\n",
      "ijkl = 0121,  0 =  0\n",
      "ijkl = 0122,  0 =  0\n",
      "ijkl = 0200,  0 =  0\n",
      "ijkl = 0201,  0 =  0\n",
      "ijkl = 0202,  1 =  1\n",
      "ijkl = 0210,  0 =  0\n",
      "ijkl = 0211,  0 =  0\n",
      "ijkl = 0212,  0 =  0\n",
      "ijkl = 0220, -1 = -1\n",
      "ijkl = 0221,  0 =  0\n",
      "ijkl = 0222,  0 =  0\n",
      "ijkl = 1000,  0 =  0\n",
      "ijkl = 1001, -1 = -1\n",
      "ijkl = 1002,  0 =  0\n",
      "ijkl = 1010,  1 =  1\n",
      "ijkl = 1011,  0 =  0\n",
      "ijkl = 1012,  0 =  0\n",
      "ijkl = 1020,  0 =  0\n",
      "ijkl = 1021,  0 =  0\n",
      "ijkl = 1022,  0 =  0\n",
      "ijkl = 1100,  0 =  0\n",
      "ijkl = 1101,  0 =  0\n",
      "ijkl = 1102,  0 =  0\n",
      "ijkl = 1110,  0 =  0\n",
      "ijkl = 1111,  0 =  0\n",
      "ijkl = 1112,  0 =  0\n",
      "ijkl = 1120,  0 =  0\n",
      "ijkl = 1121,  0 =  0\n",
      "ijkl = 1122,  0 =  0\n",
      "ijkl = 1200,  0 =  0\n",
      "ijkl = 1201,  0 =  0\n",
      "ijkl = 1202,  0 =  0\n",
      "ijkl = 1210,  0 =  0\n",
      "ijkl = 1211,  0 =  0\n",
      "ijkl = 1212,  1 =  1\n",
      "ijkl = 1220,  0 =  0\n",
      "ijkl = 1221, -1 = -1\n",
      "ijkl = 1222,  0 =  0\n",
      "ijkl = 2000,  0 =  0\n",
      "ijkl = 2001,  0 =  0\n",
      "ijkl = 2002, -1 = -1\n",
      "ijkl = 2010,  0 =  0\n",
      "ijkl = 2011,  0 =  0\n",
      "ijkl = 2012,  0 =  0\n",
      "ijkl = 2020,  1 =  1\n",
      "ijkl = 2021,  0 =  0\n",
      "ijkl = 2022,  0 =  0\n",
      "ijkl = 2100,  0 =  0\n",
      "ijkl = 2101,  0 =  0\n",
      "ijkl = 2102,  0 =  0\n",
      "ijkl = 2110,  0 =  0\n",
      "ijkl = 2111,  0 =  0\n",
      "ijkl = 2112, -1 = -1\n",
      "ijkl = 2120,  0 =  0\n",
      "ijkl = 2121,  1 =  1\n",
      "ijkl = 2122,  0 =  0\n",
      "ijkl = 2200,  0 =  0\n",
      "ijkl = 2201,  0 =  0\n",
      "ijkl = 2202,  0 =  0\n",
      "ijkl = 2210,  0 =  0\n",
      "ijkl = 2211,  0 =  0\n",
      "ijkl = 2212,  0 =  0\n",
      "ijkl = 2220,  0 =  0\n",
      "ijkl = 2221,  0 =  0\n",
      "ijkl = 2222,  0 =  0\n"
     ]
    }
   ],
   "source": [
    "# Se itera sobre todos los posibles casos de i, j, k y l:\n",
    "print('Observe que en todos los posibles casos las igualadades se conservan')\n",
    "for i in range(3):\n",
    "    for j in range(3):\n",
    "        for k in range(3):\n",
    "            for l in range(3):\n",
    "                \n",
    "                # se suma sobre el índice repetido:\n",
    "                suma = 0\n",
    "                for m in range(3):    \n",
    "                    suma += sp.Eijk(i,j,m)*sp.Eijk(k,l,m)\n",
    "\n",
    "                # parte derecha de la ecuacion (der)\n",
    "                der = sp.KroneckerDelta(i,k)*sp.KroneckerDelta(j,l) - sp.KroneckerDelta(i,l)*sp.KroneckerDelta(j,k)\n",
    "                \n",
    "                # se verifica que en cada caso la igualdad sea cierta:\n",
    "                print(f'ijkl = {i}{j}{k}{l}, {int(suma): } = {int(der): }')"
   ]
  },
  {
   "cell_type": "markdown",
   "id": "48d7f16d-f9ab-4b51-ba08-e853cbfcdb50",
   "metadata": {},
   "source": [
    "# Los tensores antisimétricos"
   ]
  },
  {
   "cell_type": "markdown",
   "id": "fa1860cd-c912-4de7-9d50-a75ce28cc555",
   "metadata": {},
   "source": [
    "Consideremos el vector antisimétrico $\\boldsymbol{R}$ definido por:\n",
    "$$\n",
    "\\boldsymbol{R} = \\begin{pmatrix}\n",
    "        0 & -\\omega_3 &  \\omega_2 \\\\\n",
    " \\omega_3 &         0 & -\\omega_1 \\\\\n",
    "-\\omega_2 &  \\omega_1 &         0\n",
    "\\end{pmatrix}\n",
    "$$\n",
    "el símbolo de Levi-Civita se puede utilizar para definir las ecuaciones:\n",
    "$$\n",
    "R_{ij} = -\\sum_{k=1}^3 \\varepsilon_{ijk}\\omega_k \\equiv -\\varepsilon_{ijk}\\omega_k\n",
    "$$\n",
    "y\n",
    "$$\n",
    "\\omega_{k} = -\\frac{1}{2}\\sum_{i=1}^3 \\sum_{j=1}^3 \\varepsilon_{ijk}R_{ij} \\equiv -\\frac{1}{2}\\varepsilon_{ijk}R_{ij}.\n",
    "$$\n",
    "observe que $\\boldsymbol{R}$ es tensor de rotaciones.\n",
    "\n",
    "\n",
    "Con los siguientes programa de PYTHON, podemos probar dichas identidades:"
   ]
  },
  {
   "cell_type": "code",
   "execution_count": 26,
   "id": "7a31d456-aa7b-4d5c-a9c5-ccda51d16c9f",
   "metadata": {},
   "outputs": [
    {
     "data": {
      "text/latex": [
       "$\\displaystyle \\left[\\begin{matrix}\\omega_{0}\\\\\\omega_{1}\\\\\\omega_{2}\\end{matrix}\\right]$"
      ],
      "text/plain": [
       "Matrix([\n",
       "[omega0],\n",
       "[omega1],\n",
       "[omega2]])"
      ]
     },
     "execution_count": 26,
     "metadata": {},
     "output_type": "execute_result"
    }
   ],
   "source": [
    "# se define el vector w\n",
    "w0,w1,w2 = sp.symbols(\"omega0:3\")\n",
    "w = sp.Matrix([w0, w1, w2])\n",
    "\n",
    "w"
   ]
  },
  {
   "cell_type": "code",
   "execution_count": 35,
   "id": "e33159c4-f020-4d4b-847c-3df38ec75c17",
   "metadata": {},
   "outputs": [
    {
     "data": {
      "text/latex": [
       "$\\displaystyle \\left[\\begin{matrix}0 & - \\omega_{2} & \\omega_{1}\\\\\\omega_{2} & 0 & - \\omega_{0}\\\\- \\omega_{1} & \\omega_{0} & 0\\end{matrix}\\right]$"
      ],
      "text/plain": [
       "Matrix([\n",
       "[      0, -omega2,  omega1],\n",
       "[ omega2,       0, -omega0],\n",
       "[-omega1,  omega0,       0]])"
      ]
     },
     "execution_count": 35,
     "metadata": {},
     "output_type": "execute_result"
    }
   ],
   "source": [
    "R = sp.zeros(3,3)\n",
    "for i in range(3):\n",
    "    for j in range(3):        \n",
    "        R[i,j] = -sum(sp.Eijk(i,j,k)*w[k] for k in range(3))\n",
    "            \n",
    "R"
   ]
  },
  {
   "cell_type": "code",
   "execution_count": 34,
   "id": "a29a1666-d141-4ff2-b5ea-59795f5b4571",
   "metadata": {},
   "outputs": [
    {
     "data": {
      "text/latex": [
       "$\\displaystyle \\left[\\begin{matrix}\\omega_{0}\\\\\\omega_{1}\\\\\\omega_{2}\\end{matrix}\\right]$"
      ],
      "text/plain": [
       "Matrix([\n",
       "[omega0],\n",
       "[omega1],\n",
       "[omega2]])"
      ]
     },
     "execution_count": 34,
     "metadata": {},
     "output_type": "execute_result"
    }
   ],
   "source": [
    "omega = sp.zeros(3,1)\n",
    "for k in range(3):\n",
    "    suma = 0\n",
    "    for i in range(3):\n",
    "        for j in range(3):\n",
    "            suma += sp.Eijk(i,j,k)*R[i,j]\n",
    "    omega[k] = -suma/2\n",
    "\n",
    "omega"
   ]
  }
 ],
 "metadata": {
  "kernelspec": {
   "display_name": "Python 3 (ipykernel)",
   "language": "python",
   "name": "python3"
  },
  "language_info": {
   "codemirror_mode": {
    "name": "ipython",
    "version": 3
   },
   "file_extension": ".py",
   "mimetype": "text/x-python",
   "name": "python",
   "nbconvert_exporter": "python",
   "pygments_lexer": "ipython3",
   "version": "3.10.9"
  }
 },
 "nbformat": 4,
 "nbformat_minor": 5
}
